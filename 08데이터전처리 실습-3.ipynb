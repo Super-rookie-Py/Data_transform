{
 "cells": [
  {
   "cell_type": "markdown",
   "metadata": {},
   "source": [
    "## 08데이터 전처리 실습-3\n",
    "### 데이터 변환\n",
    "#### 2020/06/16 keonwoo Park"
   ]
  },
  {
   "cell_type": "markdown",
   "metadata": {},
   "source": [
    "# 데이터 변환\n",
    "### 평활화, 집계, 속성구성\n",
    "### 정규화\n",
    "- 최소-최대 정규화\n",
    "- Z-score 정규화\n",
    "- 소수 척도화\n",
    "\n",
    "### (수치형 데이터) 이산화\n",
    "- 구간화\n",
    "- 히스토그램\n",
    "- 엔트로피-기반 이산화\n",
    "- 카이제곱 결합\n",
    "- 군집 분석\n",
    "- 직관적 분할\n",
    "\n",
    "### (범주형 데이터)개념 계층\n"
   ]
  },
  {
   "cell_type": "code",
   "execution_count": 5,
   "metadata": {},
   "outputs": [],
   "source": [
    "# 정규화\n",
    "import pandas as pd\n",
    "import numpy as np\n",
    "\n",
    "data = pd.read_csv(\"ch5-1(선박입출항).csv\", encoding=\"CP949\", index_col = \"항만\")"
   ]
  },
  {
   "cell_type": "code",
   "execution_count": 9,
   "metadata": {},
   "outputs": [
    {
     "data": {
      "text/html": [
       "<div>\n",
       "<style scoped>\n",
       "    .dataframe tbody tr th:only-of-type {\n",
       "        vertical-align: middle;\n",
       "    }\n",
       "\n",
       "    .dataframe tbody tr th {\n",
       "        vertical-align: top;\n",
       "    }\n",
       "\n",
       "    .dataframe thead th {\n",
       "        text-align: right;\n",
       "    }\n",
       "</style>\n",
       "<table border=\"1\" class=\"dataframe\">\n",
       "  <thead>\n",
       "    <tr style=\"text-align: right;\">\n",
       "      <th></th>\n",
       "      <th>입항선박수</th>\n",
       "      <th>입항선박톤수</th>\n",
       "      <th>출항선박수</th>\n",
       "      <th>출항선박톤수</th>\n",
       "    </tr>\n",
       "    <tr>\n",
       "      <th>항만</th>\n",
       "      <th></th>\n",
       "      <th></th>\n",
       "      <th></th>\n",
       "      <th></th>\n",
       "    </tr>\n",
       "  </thead>\n",
       "  <tbody>\n",
       "    <tr>\n",
       "      <th>부산</th>\n",
       "      <td>7301</td>\n",
       "      <td>105138280</td>\n",
       "      <td>7409</td>\n",
       "      <td>103857903</td>\n",
       "    </tr>\n",
       "    <tr>\n",
       "      <th>인천</th>\n",
       "      <td>2715</td>\n",
       "      <td>30716710</td>\n",
       "      <td>2716</td>\n",
       "      <td>30779186</td>\n",
       "    </tr>\n",
       "    <tr>\n",
       "      <th>평택.당진</th>\n",
       "      <td>1558</td>\n",
       "      <td>23153226</td>\n",
       "      <td>1536</td>\n",
       "      <td>22778109</td>\n",
       "    </tr>\n",
       "    <tr>\n",
       "      <th>경인항</th>\n",
       "      <td>28</td>\n",
       "      <td>126236</td>\n",
       "      <td>27</td>\n",
       "      <td>128344</td>\n",
       "    </tr>\n",
       "    <tr>\n",
       "      <th>동해.묵호</th>\n",
       "      <td>552</td>\n",
       "      <td>4202603</td>\n",
       "      <td>546</td>\n",
       "      <td>4039929</td>\n",
       "    </tr>\n",
       "  </tbody>\n",
       "</table>\n",
       "</div>"
      ],
      "text/plain": [
       "       입항선박수     입항선박톤수  출항선박수     출항선박톤수\n",
       "항만                                       \n",
       "부산      7301  105138280   7409  103857903\n",
       "인천      2715   30716710   2716   30779186\n",
       "평택.당진   1558   23153226   1536   22778109\n",
       "경인항       28     126236     27     128344\n",
       "동해.묵호    552    4202603    546    4039929"
      ]
     },
     "execution_count": 9,
     "metadata": {},
     "output_type": "execute_result"
    }
   ],
   "source": [
    "data.head()"
   ]
  },
  {
   "cell_type": "code",
   "execution_count": 10,
   "metadata": {},
   "outputs": [],
   "source": [
    "# 최소-최대 정규화\n",
    "# 최소값: 0, 최대값: 1로 가정\n",
    "from sklearn.preprocessing import MinMaxScaler\n",
    "\n",
    "mms = MinMaxScaler()"
   ]
  },
  {
   "cell_type": "code",
   "execution_count": 53,
   "metadata": {},
   "outputs": [],
   "source": [
    "df2 = pd.DataFrame(mms.fit_transform(data.loc[:,'입항선박수':'출항선박톤수']),\n",
    "                  columns = ['입항선박수','입항선박톤수','출항선박수','출항선박톤수'])"
   ]
  },
  {
   "cell_type": "code",
   "execution_count": 55,
   "metadata": {},
   "outputs": [
    {
     "data": {
      "text/html": [
       "<div>\n",
       "<style scoped>\n",
       "    .dataframe tbody tr th:only-of-type {\n",
       "        vertical-align: middle;\n",
       "    }\n",
       "\n",
       "    .dataframe tbody tr th {\n",
       "        vertical-align: top;\n",
       "    }\n",
       "\n",
       "    .dataframe thead th {\n",
       "        text-align: right;\n",
       "    }\n",
       "</style>\n",
       "<table border=\"1\" class=\"dataframe\">\n",
       "  <thead>\n",
       "    <tr style=\"text-align: right;\">\n",
       "      <th></th>\n",
       "      <th>입항선박수</th>\n",
       "      <th>입항선박톤수</th>\n",
       "      <th>출항선박수</th>\n",
       "      <th>출항선박톤수</th>\n",
       "    </tr>\n",
       "  </thead>\n",
       "  <tbody>\n",
       "    <tr>\n",
       "      <th>0</th>\n",
       "      <td>1.000000</td>\n",
       "      <td>1.000000</td>\n",
       "      <td>1.000000</td>\n",
       "      <td>1.000000</td>\n",
       "    </tr>\n",
       "    <tr>\n",
       "      <th>1</th>\n",
       "      <td>0.371609</td>\n",
       "      <td>0.292150</td>\n",
       "      <td>0.366325</td>\n",
       "      <td>0.296353</td>\n",
       "    </tr>\n",
       "    <tr>\n",
       "      <th>2</th>\n",
       "      <td>0.213072</td>\n",
       "      <td>0.220211</td>\n",
       "      <td>0.206994</td>\n",
       "      <td>0.219314</td>\n",
       "    </tr>\n",
       "    <tr>\n",
       "      <th>3</th>\n",
       "      <td>0.003426</td>\n",
       "      <td>0.001193</td>\n",
       "      <td>0.003241</td>\n",
       "      <td>0.001228</td>\n",
       "    </tr>\n",
       "    <tr>\n",
       "      <th>4</th>\n",
       "      <td>0.075226</td>\n",
       "      <td>0.039965</td>\n",
       "      <td>0.073319</td>\n",
       "      <td>0.038891</td>\n",
       "    </tr>\n",
       "  </tbody>\n",
       "</table>\n",
       "</div>"
      ],
      "text/plain": [
       "      입항선박수    입항선박톤수     출항선박수    출항선박톤수\n",
       "0  1.000000  1.000000  1.000000  1.000000\n",
       "1  0.371609  0.292150  0.366325  0.296353\n",
       "2  0.213072  0.220211  0.206994  0.219314\n",
       "3  0.003426  0.001193  0.003241  0.001228\n",
       "4  0.075226  0.039965  0.073319  0.038891"
      ]
     },
     "execution_count": 55,
     "metadata": {},
     "output_type": "execute_result"
    }
   ],
   "source": [
    " df2.head()"
   ]
  },
  {
   "cell_type": "code",
   "execution_count": 56,
   "metadata": {},
   "outputs": [],
   "source": [
    "# Z-scroe 정규화\n",
    "from sklearn.preprocessing import StandardScaler\n",
    "\n",
    "std = StandardScaler()"
   ]
  },
  {
   "cell_type": "code",
   "execution_count": 57,
   "metadata": {},
   "outputs": [],
   "source": [
    "df2 = pd.DataFrame(std.fit_transform(data.loc[:,'입항선박수':'출항선박톤수']),\n",
    "                  columns = ['입항선박수','입항선박톤수','출항선박수','출항선박톤수'])"
   ]
  },
  {
   "cell_type": "code",
   "execution_count": 58,
   "metadata": {},
   "outputs": [
    {
     "data": {
      "text/html": [
       "<div>\n",
       "<style scoped>\n",
       "    .dataframe tbody tr th:only-of-type {\n",
       "        vertical-align: middle;\n",
       "    }\n",
       "\n",
       "    .dataframe tbody tr th {\n",
       "        vertical-align: top;\n",
       "    }\n",
       "\n",
       "    .dataframe thead th {\n",
       "        text-align: right;\n",
       "    }\n",
       "</style>\n",
       "<table border=\"1\" class=\"dataframe\">\n",
       "  <thead>\n",
       "    <tr style=\"text-align: right;\">\n",
       "      <th></th>\n",
       "      <th>입항선박수</th>\n",
       "      <th>입항선박톤수</th>\n",
       "      <th>출항선박수</th>\n",
       "      <th>출항선박톤수</th>\n",
       "    </tr>\n",
       "  </thead>\n",
       "  <tbody>\n",
       "    <tr>\n",
       "      <th>0</th>\n",
       "      <td>3.977058</td>\n",
       "      <td>4.326171</td>\n",
       "      <td>3.999328</td>\n",
       "      <td>4.289097</td>\n",
       "    </tr>\n",
       "    <tr>\n",
       "      <th>1</th>\n",
       "      <td>1.069845</td>\n",
       "      <td>0.907552</td>\n",
       "      <td>1.056042</td>\n",
       "      <td>0.912063</td>\n",
       "    </tr>\n",
       "    <tr>\n",
       "      <th>2</th>\n",
       "      <td>0.336386</td>\n",
       "      <td>0.560117</td>\n",
       "      <td>0.315987</td>\n",
       "      <td>0.542325</td>\n",
       "    </tr>\n",
       "    <tr>\n",
       "      <th>3</th>\n",
       "      <td>-0.633531</td>\n",
       "      <td>-0.497648</td>\n",
       "      <td>-0.630406</td>\n",
       "      <td>-0.504341</td>\n",
       "    </tr>\n",
       "    <tr>\n",
       "      <th>4</th>\n",
       "      <td>-0.301350</td>\n",
       "      <td>-0.310396</td>\n",
       "      <td>-0.304907</td>\n",
       "      <td>-0.323583</td>\n",
       "    </tr>\n",
       "  </tbody>\n",
       "</table>\n",
       "</div>"
      ],
      "text/plain": [
       "      입항선박수    입항선박톤수     출항선박수    출항선박톤수\n",
       "0  3.977058  4.326171  3.999328  4.289097\n",
       "1  1.069845  0.907552  1.056042  0.912063\n",
       "2  0.336386  0.560117  0.315987  0.542325\n",
       "3 -0.633531 -0.497648 -0.630406 -0.504341\n",
       "4 -0.301350 -0.310396 -0.304907 -0.323583"
      ]
     },
     "execution_count": 58,
     "metadata": {},
     "output_type": "execute_result"
    }
   ],
   "source": [
    "df2.head()"
   ]
  },
  {
   "cell_type": "code",
   "execution_count": null,
   "metadata": {},
   "outputs": [],
   "source": [
    "# 소수 척도화  모든 값을 소수로 만드는 것(칼럼의 최대값의 자리수로 각값을 나눈다.)\n",
    "# 각 항목에서 최대값 구하기\n",
    "a1 = max(data.loc[:, '입항선박수'])\n",
    "a2 = max(data.loc[:, '입항선박톤수'])\n",
    "b1 = max(data.loc[:, '출항선박수'])\n",
    "b2 = max(data.loc[:, '출항선박톤수'])\n",
    "\n",
    "# 소수 척도화 수행\n",
    "list_of_decs = []\n"
   ]
  },
  {
   "cell_type": "code",
   "execution_count": 98,
   "metadata": {},
   "outputs": [],
   "source": [
    "data_index = list(data.index)"
   ]
  },
  {
   "cell_type": "code",
   "execution_count": 100,
   "metadata": {},
   "outputs": [],
   "source": [
    "for i in data_index:\n",
    "    list_of_decs.append([data.loc[i,'입항선박수'] / pow(10, len(str(a1))),\n",
    "                        data.loc[i,'입항선박톤수'] / pow(10, len(str(a2))),\n",
    "                        data.loc[i,'출항선박수'] / pow(10, len(str(b1))),\n",
    "                        data.loc[i,'출항선박톤수'] / pow(10, len(str(b2)))])"
   ]
  },
  {
   "cell_type": "code",
   "execution_count": 102,
   "metadata": {},
   "outputs": [],
   "source": [
    "df2 = pd.DataFrame(list_of_decs,\n",
    "                  columns = [\"입항선박수\",'입항선박톤수','출항선박수','출항선박톤수'])"
   ]
  },
  {
   "cell_type": "code",
   "execution_count": 104,
   "metadata": {},
   "outputs": [
    {
     "data": {
      "text/html": [
       "<div>\n",
       "<style scoped>\n",
       "    .dataframe tbody tr th:only-of-type {\n",
       "        vertical-align: middle;\n",
       "    }\n",
       "\n",
       "    .dataframe tbody tr th {\n",
       "        vertical-align: top;\n",
       "    }\n",
       "\n",
       "    .dataframe thead th {\n",
       "        text-align: right;\n",
       "    }\n",
       "</style>\n",
       "<table border=\"1\" class=\"dataframe\">\n",
       "  <thead>\n",
       "    <tr style=\"text-align: right;\">\n",
       "      <th></th>\n",
       "      <th>입항선박수</th>\n",
       "      <th>입항선박톤수</th>\n",
       "      <th>출항선박수</th>\n",
       "      <th>출항선박톤수</th>\n",
       "    </tr>\n",
       "  </thead>\n",
       "  <tbody>\n",
       "    <tr>\n",
       "      <th>0</th>\n",
       "      <td>0.7301</td>\n",
       "      <td>0.105138</td>\n",
       "      <td>0.7409</td>\n",
       "      <td>0.103858</td>\n",
       "    </tr>\n",
       "    <tr>\n",
       "      <th>1</th>\n",
       "      <td>0.2715</td>\n",
       "      <td>0.030717</td>\n",
       "      <td>0.2716</td>\n",
       "      <td>0.030779</td>\n",
       "    </tr>\n",
       "    <tr>\n",
       "      <th>2</th>\n",
       "      <td>0.1558</td>\n",
       "      <td>0.023153</td>\n",
       "      <td>0.1536</td>\n",
       "      <td>0.022778</td>\n",
       "    </tr>\n",
       "    <tr>\n",
       "      <th>3</th>\n",
       "      <td>0.0028</td>\n",
       "      <td>0.000126</td>\n",
       "      <td>0.0027</td>\n",
       "      <td>0.000128</td>\n",
       "    </tr>\n",
       "    <tr>\n",
       "      <th>4</th>\n",
       "      <td>0.0552</td>\n",
       "      <td>0.004203</td>\n",
       "      <td>0.0546</td>\n",
       "      <td>0.004040</td>\n",
       "    </tr>\n",
       "  </tbody>\n",
       "</table>\n",
       "</div>"
      ],
      "text/plain": [
       "    입항선박수    입항선박톤수   출항선박수    출항선박톤수\n",
       "0  0.7301  0.105138  0.7409  0.103858\n",
       "1  0.2715  0.030717  0.2716  0.030779\n",
       "2  0.1558  0.023153  0.1536  0.022778\n",
       "3  0.0028  0.000126  0.0027  0.000128\n",
       "4  0.0552  0.004203  0.0546  0.004040"
      ]
     },
     "execution_count": 104,
     "metadata": {},
     "output_type": "execute_result"
    }
   ],
   "source": [
    "df2.head()"
   ]
  },
  {
   "cell_type": "markdown",
   "metadata": {},
   "source": [
    "# 이산화 - 엔트로피 기반 이산화"
   ]
  },
  {
   "cell_type": "code",
   "execution_count": 105,
   "metadata": {},
   "outputs": [],
   "source": [
    "data = pd.read_csv(\"ch5-2(국내대학현황).csv\",encoding=\"CP949\")"
   ]
  },
  {
   "cell_type": "code",
   "execution_count": 108,
   "metadata": {},
   "outputs": [
    {
     "data": {
      "text/html": [
       "<div>\n",
       "<style scoped>\n",
       "    .dataframe tbody tr th:only-of-type {\n",
       "        vertical-align: middle;\n",
       "    }\n",
       "\n",
       "    .dataframe tbody tr th {\n",
       "        vertical-align: top;\n",
       "    }\n",
       "\n",
       "    .dataframe thead th {\n",
       "        text-align: right;\n",
       "    }\n",
       "</style>\n",
       "<table border=\"1\" class=\"dataframe\">\n",
       "  <thead>\n",
       "    <tr style=\"text-align: right;\">\n",
       "      <th></th>\n",
       "      <th>학제</th>\n",
       "      <th>학교명</th>\n",
       "      <th>지역</th>\n",
       "      <th>설립</th>\n",
       "      <th>재적학생수</th>\n",
       "    </tr>\n",
       "  </thead>\n",
       "  <tbody>\n",
       "    <tr>\n",
       "      <th>0</th>\n",
       "      <td>전문대학</td>\n",
       "      <td>한국철도대학</td>\n",
       "      <td>경기</td>\n",
       "      <td>국립</td>\n",
       "      <td>180</td>\n",
       "    </tr>\n",
       "    <tr>\n",
       "      <th>1</th>\n",
       "      <td>전문대학</td>\n",
       "      <td>강원도립대학</td>\n",
       "      <td>강원</td>\n",
       "      <td>공립</td>\n",
       "      <td>1658</td>\n",
       "    </tr>\n",
       "    <tr>\n",
       "      <th>2</th>\n",
       "      <td>전문대학</td>\n",
       "      <td>경남도립거창대학</td>\n",
       "      <td>경남</td>\n",
       "      <td>공립</td>\n",
       "      <td>1614</td>\n",
       "    </tr>\n",
       "    <tr>\n",
       "      <th>3</th>\n",
       "      <td>전문대학</td>\n",
       "      <td>경남도립남해대학</td>\n",
       "      <td>경남</td>\n",
       "      <td>공립</td>\n",
       "      <td>1639</td>\n",
       "    </tr>\n",
       "    <tr>\n",
       "      <th>4</th>\n",
       "      <td>전문대학</td>\n",
       "      <td>경북도립대학교</td>\n",
       "      <td>경북</td>\n",
       "      <td>공립</td>\n",
       "      <td>1389</td>\n",
       "    </tr>\n",
       "  </tbody>\n",
       "</table>\n",
       "</div>"
      ],
      "text/plain": [
       "     학제       학교명  지역  설립  재적학생수\n",
       "0  전문대학    한국철도대학  경기  국립    180\n",
       "1  전문대학    강원도립대학  강원  공립   1658\n",
       "2  전문대학  경남도립거창대학  경남  공립   1614\n",
       "3  전문대학  경남도립남해대학  경남  공립   1639\n",
       "4  전문대학   경북도립대학교  경북  공립   1389"
      ]
     },
     "execution_count": 108,
     "metadata": {},
     "output_type": "execute_result"
    }
   ],
   "source": [
    "data.head()"
   ]
  },
  {
   "cell_type": "raw",
   "metadata": {},
   "source": [
    "# 엔트로피 기반으로 구간을 나누는 방법\n",
    "\n",
    "# 재적학생수 속성을 리스트로 저장\n",
    "v_재적학생수 = list(data.loc[:,'재적학생수'])\n"
   ]
  }
 ],
 "metadata": {
  "kernelspec": {
   "display_name": "Python 3",
   "language": "python",
   "name": "python3"
  },
  "language_info": {
   "codemirror_mode": {
    "name": "ipython",
    "version": 3
   },
   "file_extension": ".py",
   "mimetype": "text/x-python",
   "name": "python",
   "nbconvert_exporter": "python",
   "pygments_lexer": "ipython3",
   "version": "3.6.2"
  }
 },
 "nbformat": 4,
 "nbformat_minor": 4
}
